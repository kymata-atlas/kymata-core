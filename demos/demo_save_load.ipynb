{
 "cells": [
  {
   "cell_type": "code",
   "execution_count": 1,
   "id": "19b809df-7acd-402b-8f05-d44a68910a79",
   "metadata": {},
   "outputs": [],
   "source": [
    "# temporary fix for relative import errors. essentially, the notebook is unable to discern that \n",
    "# the kymata directory is in the parent directory. It thinks it is in the current one.\n",
    "# SOLUTION: update the PATH variable to point to the parent directory, from which it can locate kymata/.\n",
    "\n",
    "import sys\n",
    "sys.path.insert(1, '..')"
   ]
  },
  {
   "cell_type": "code",
   "execution_count": 2,
   "id": "initial_id",
   "metadata": {
    "ExecuteTime": {
     "end_time": "2023-11-10T20:02:56.737736Z",
     "start_time": "2023-11-10T20:02:56.215552Z"
    }
   },
   "outputs": [
    {
     "ename": "ModuleNotFoundError",
     "evalue": "No module named 'numpy'",
     "output_type": "error",
     "traceback": [
      "\u001b[0;31m---------------------------------------------------------------------------\u001b[0m",
      "\u001b[0;31mModuleNotFoundError\u001b[0m                       Traceback (most recent call last)",
      "Cell \u001b[0;32mIn[2], line 6\u001b[0m\n\u001b[1;32m      2\u001b[0m \u001b[38;5;28;01mfrom\u001b[39;00m \u001b[38;5;21;01mtempfile\u001b[39;00m \u001b[38;5;28;01mimport\u001b[39;00m NamedTemporaryFile\n\u001b[1;32m      4\u001b[0m \u001b[38;5;28;01mfrom\u001b[39;00m \u001b[38;5;21;01mkymata\u001b[39;00m\u001b[38;5;21;01m.\u001b[39;00m\u001b[38;5;21;01mdatasets\u001b[39;00m\u001b[38;5;21;01m.\u001b[39;00m\u001b[38;5;21;01msample\u001b[39;00m \u001b[38;5;28;01mimport\u001b[39;00m get_dataset_kymata_mirror_q3_2023, get_dataset_gm_loudness, \\\n\u001b[1;32m      5\u001b[0m     get_dataset_d_ins_loudness_tonop_chan1\n\u001b[0;32m----> 6\u001b[0m \u001b[38;5;28;01mfrom\u001b[39;00m \u001b[38;5;21;01mkymata\u001b[39;00m\u001b[38;5;21;01m.\u001b[39;00m\u001b[38;5;21;01mentities\u001b[39;00m\u001b[38;5;21;01m.\u001b[39;00m\u001b[38;5;21;01mexpression\u001b[39;00m \u001b[38;5;28;01mimport\u001b[39;00m ExpressionSet\n\u001b[1;32m      7\u001b[0m \u001b[38;5;28;01mfrom\u001b[39;00m \u001b[38;5;21;01mkymata\u001b[39;00m\u001b[38;5;21;01m.\u001b[39;00m\u001b[38;5;21;01mio\u001b[39;00m\u001b[38;5;21;01m.\u001b[39;00m\u001b[38;5;21;01mmatlab\u001b[39;00m \u001b[38;5;28;01mimport\u001b[39;00m load_matab_expression_files\n",
      "File \u001b[0;32m~/Desktop/kymata/kymata-toolbox/demos/../kymata/entities/expression.py:13\u001b[0m\n\u001b[1;32m     10\u001b[0m \u001b[38;5;28;01mfrom\u001b[39;00m \u001b[38;5;21;01mwarnings\u001b[39;00m \u001b[38;5;28;01mimport\u001b[39;00m warn\n\u001b[1;32m     11\u001b[0m \u001b[38;5;28;01mfrom\u001b[39;00m \u001b[38;5;21;01mzipfile\u001b[39;00m \u001b[38;5;28;01mimport\u001b[39;00m ZipFile, ZIP_LZMA\n\u001b[0;32m---> 13\u001b[0m \u001b[38;5;28;01mfrom\u001b[39;00m \u001b[38;5;21;01mnumpy\u001b[39;00m \u001b[38;5;28;01mimport\u001b[39;00m int_, float_, str_, array, array_equal, ndarray, frombuffer\n\u001b[1;32m     14\u001b[0m \u001b[38;5;28;01mfrom\u001b[39;00m \u001b[38;5;21;01mnumpy\u001b[39;00m\u001b[38;5;21;01m.\u001b[39;00m\u001b[38;5;21;01mtyping\u001b[39;00m \u001b[38;5;28;01mimport\u001b[39;00m NDArray\n\u001b[1;32m     15\u001b[0m \u001b[38;5;28;01mfrom\u001b[39;00m \u001b[38;5;21;01msparse\u001b[39;00m \u001b[38;5;28;01mimport\u001b[39;00m SparseArray, COO\n",
      "\u001b[0;31mModuleNotFoundError\u001b[0m: No module named 'numpy'"
     ]
    }
   ],
   "source": [
    "from pathlib import Path\n",
    "from tempfile import NamedTemporaryFile\n",
    "\n",
    "from kymata.datasets.sample import get_dataset_kymata_mirror_q3_2023, get_dataset_gm_loudness, \\\n",
    "    get_dataset_d_ins_loudness_tonop_chan1\n",
    "from kymata.entities.expression import ExpressionSet\n",
    "from kymata.io.matlab import load_matab_expression_files"
   ]
  },
  {
   "cell_type": "code",
   "execution_count": 2,
   "id": "4df17a3a727b7c02",
   "metadata": {
    "ExecuteTime": {
     "end_time": "2023-11-10T20:03:00.508482Z",
     "start_time": "2023-11-10T20:02:56.738612Z"
    },
    "collapsed": false,
    "jupyter": {
     "outputs_hidden": false
    }
   },
   "outputs": [
    {
     "name": "stdout",
     "output_type": "stream",
     "text": [
      "Downloading dataset: kymata_mirror_Q3_2023\n",
      "Downloading https://kymata.org/assets_kymata_toolbox_tutorial_data/gridsearch-result-data//kymata_mirror_Q3_2023_expression_endtable.nkg to /Users/cai/Dox/Work/Kymata lab/Data/kymata_data/kymata_mirror_Q3_2023/kymata_mirror_Q3_2023_expression_endtable.nkg\n"
     ]
    }
   ],
   "source": [
    "# Start with sample dataset\n",
    "dataset_q3_2023 = get_dataset_kymata_mirror_q3_2023()\n",
    "expression_data_kymata_mirror = ExpressionSet.load(from_path_or_file=Path(dataset_q3_2023.path, dataset_q3_2023.filenames[0]))"
   ]
  },
  {
   "cell_type": "code",
   "execution_count": 3,
   "id": "681594ea282bf0f",
   "metadata": {
    "ExecuteTime": {
     "end_time": "2023-11-10T20:03:11.535225Z",
     "start_time": "2023-11-10T20:03:00.507022Z"
    },
    "collapsed": false,
    "jupyter": {
     "outputs_hidden": false
    }
   },
   "outputs": [
    {
     "name": "stdout",
     "output_type": "stream",
     "text": [
      "Downloading dataset: GMLoudness\n",
      "Downloading https://kymata.org/assets_kymata_toolbox_tutorial_data/gridsearch-result-data//GMLoudness_lh_10242verts_-200-800ms_cuttoff1000_5perms_ttestpval.mat to /Users/cai/Dox/Work/Kymata lab/Data/kymata_data/GMLoudness/GMLoudness_lh_10242verts_-200-800ms_cuttoff1000_5perms_ttestpval.mat\n",
      "Downloading https://kymata.org/assets_kymata_toolbox_tutorial_data/gridsearch-result-data//GMLoudness_rh_10242verts_-200-800ms_cuttoff1000_5perms_ttestpval.mat to /Users/cai/Dox/Work/Kymata lab/Data/kymata_data/GMLoudness/GMLoudness_rh_10242verts_-200-800ms_cuttoff1000_5perms_ttestpval.mat\n",
      "Downloading dataset: GMLoudness\n",
      "Downloading https://kymata.org/assets_kymata_toolbox_tutorial_data/gridsearch-result-data//GMloudness_tonotop_82dB_d_ins_loudness_tonop_chan1__lh_10242verts_-200-800ms_cuttoff1000_5perms_ttestpval.mat to /Users/cai/Dox/Work/Kymata lab/Data/kymata_data/GMLoudness/GMloudness_tonotop_82dB_d_ins_loudness_tonop_chan1__lh_10242verts_-200-800ms_cuttoff1000_5perms_ttestpval.mat\n",
      "Downloading https://kymata.org/assets_kymata_toolbox_tutorial_data/gridsearch-result-data//GMloudness_tonotop_82dB_d_ins_loudness_tonop_chan1__rh_10242verts_-200-800ms_cuttoff1000_5perms_ttestpval.mat to /Users/cai/Dox/Work/Kymata lab/Data/kymata_data/GMLoudness/GMloudness_tonotop_82dB_d_ins_loudness_tonop_chan1__rh_10242verts_-200-800ms_cuttoff1000_5perms_ttestpval.mat\n"
     ]
    }
   ],
   "source": [
    "# Get a second sample dataset\n",
    "\n",
    "# Create new expression set object for the new results (or you can just add to an existing expressionSet directly using '+=' ).\n",
    "dataset_gm_loudness = get_dataset_gm_loudness()\n",
    "expression_data_new_results = load_matab_expression_files(\n",
    "    function_name=\"ins_loudness_2020\",\n",
    "    lh_file=Path(dataset_gm_loudness.path, dataset_gm_loudness.filenames[0]),\n",
    "    rh_file=Path(dataset_gm_loudness.path, dataset_gm_loudness.filenames[1]),\n",
    ")\n",
    "dataset_d_ins_loudness_tonop_chan1 = get_dataset_d_ins_loudness_tonop_chan1()\n",
    "expression_data_new_results += load_matab_expression_files(\n",
    "    function_name=\"delta_ins_loudness_tonotop_chan1_2020\",\n",
    "    lh_file=Path(dataset_d_ins_loudness_tonop_chan1.path, dataset_d_ins_loudness_tonop_chan1.filenames[0]),\n",
    "    rh_file=Path(dataset_d_ins_loudness_tonop_chan1.path, dataset_d_ins_loudness_tonop_chan1.filenames[1]),\n",
    ")"
   ]
  },
  {
   "cell_type": "code",
   "execution_count": 4,
   "id": "77c6c3617357edbb",
   "metadata": {
    "ExecuteTime": {
     "end_time": "2023-11-10T20:03:18.279668Z",
     "start_time": "2023-11-10T20:03:11.536073Z"
    },
    "collapsed": false,
    "jupyter": {
     "outputs_hidden": false
    }
   },
   "outputs": [
    {
     "name": "stderr",
     "output_type": "stream",
     "text": [
      "/Users/cai/Dox/Work/Kymata lab/Code/kymata-toolbox/kymata/entities/expression.py:215: UserWarning: Experimental function. The on-disk data format for ExpressionSet is not yet fixed. Files saved using .save should not (yet) be treated as stable or future-proof.\n",
      "  warn(\"Experimental function. \"\n"
     ]
    }
   ],
   "source": [
    "# You can add two ExpressionSets together\n",
    "expression_data_extended = expression_data_kymata_mirror + expression_data_new_results\n",
    "\n",
    "# Save new expressionSet for use again in the future.\n",
    "with NamedTemporaryFile() as tf:\n",
    "    expression_data_extended.save(tf)"
   ]
  }
 ],
 "metadata": {
  "kernelspec": {
   "display_name": "Python 3 (ipykernel)",
   "language": "python",
   "name": "python3"
  },
  "language_info": {
   "codemirror_mode": {
    "name": "ipython",
    "version": 3
   },
   "file_extension": ".py",
   "mimetype": "text/x-python",
   "name": "python",
   "nbconvert_exporter": "python",
   "pygments_lexer": "ipython3",
   "version": "3.12.0"
  }
 },
 "nbformat": 4,
 "nbformat_minor": 5
}
