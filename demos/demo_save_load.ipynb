{
 "cells": [
  {
   "cell_type": "code",
   "execution_count": 1,
   "id": "initial_id",
   "metadata": {
    "collapsed": true,
    "ExecuteTime": {
     "end_time": "2023-11-03T11:14:59.760748Z",
     "start_time": "2023-11-03T11:14:58.864754Z"
    }
   },
   "outputs": [],
   "source": [
    "from os import path\n",
    "from pathlib import Path\n",
    "from tempfile import NamedTemporaryFile\n",
    "\n",
    "from kymata.entities.expression import ExpressionSet\n",
    "from kymata.io.matlab import load_matab_expression_files"
   ]
  },
  {
   "cell_type": "code",
   "execution_count": 2,
   "outputs": [],
   "source": [
    "# set location of tutorial data\n",
    "sample_data_dir = Path(Path(path.abspath(\"\")).parent, \"data\", \"sample-data\")\n",
    "\n",
    "# Load in an existing expression set object\n",
    "expression_data_kymata_mirror = ExpressionSet.load(from_path_or_file=Path(sample_data_dir, \"kymata_mirror_Q3_2023_expression_endtable.nkg\"))\n"
   ],
   "metadata": {
    "collapsed": false,
    "ExecuteTime": {
     "end_time": "2023-11-03T11:15:02.415275Z",
     "start_time": "2023-11-03T11:14:59.762100Z"
    }
   },
   "id": "4df17a3a727b7c02"
  },
  {
   "cell_type": "code",
   "execution_count": 3,
   "outputs": [],
   "source": [
    "# Create new expression set object for the new results (or you can just add to an existing expressionSet directly using '+=' ).\n",
    "expression_data_new_results = load_matab_expression_files(\n",
    "    function_name=\"ins_loudness_2020\",\n",
    "    lh_file=Path(sample_data_dir, \"GMloudness_lh_10242verts_-200-800ms_cuttoff1000_5perms_ttestpval.mat\"),\n",
    "    rh_file=Path(sample_data_dir, \"GMloudness_rh_10242verts_-200-800ms_cuttoff1000_5perms_ttestpval.mat\"),\n",
    ")\n",
    "expression_data_new_results += load_matab_expression_files(\n",
    "    function_name=\"delta_ins_loudness_tonotop_chan1_2020\",\n",
    "    lh_file=Path(sample_data_dir, \"GMloudness_tonotop_82dB__d_ins_loudness_tonop_chan1__lh_10242verts_-200-800ms_cuttoff1000_5perms_ttestpval.mat\"),\n",
    "    rh_file=Path(sample_data_dir, \"GMloudness_tonotop_82dB__d_ins_loudness_tonop_chan1__rh_10242verts_-200-800ms_cuttoff1000_5perms_ttestpval.mat\"),\n",
    ")"
   ],
   "metadata": {
    "collapsed": false,
    "ExecuteTime": {
     "end_time": "2023-11-03T11:15:08.725199Z",
     "start_time": "2023-11-03T11:15:02.416078Z"
    }
   },
   "id": "681594ea282bf0f"
  },
  {
   "cell_type": "code",
   "execution_count": 4,
   "outputs": [
    {
     "name": "stderr",
     "output_type": "stream",
     "text": [
      "/Users/cai/Dox/Work/Kymata lab/Code/kymata-toolbox/kymata/entities/expression.py:215: UserWarning: Experimental function. The on-disk data format for ExpressionSet is not yet fixed. Files saved using .save should not (yet) be treated as stable or future-proof.\n",
      "  warn(\"Experimental function. \"\n"
     ]
    }
   ],
   "source": [
    "# You can add two ExpressionSets together\n",
    "expression_data_extended = expression_data_kymata_mirror + expression_data_new_results\n",
    "\n",
    "# Save new expressionSet for use again in the future.\n",
    "with NamedTemporaryFile() as tf:\n",
    "    expression_data_extended.save(tf)"
   ],
   "metadata": {
    "collapsed": false,
    "ExecuteTime": {
     "end_time": "2023-11-03T11:15:09.899937Z",
     "start_time": "2023-11-03T11:15:08.725716Z"
    }
   },
   "id": "77c6c3617357edbb"
  }
 ],
 "metadata": {
  "kernelspec": {
   "display_name": "Python 3",
   "language": "python",
   "name": "python3"
  },
  "language_info": {
   "codemirror_mode": {
    "name": "ipython",
    "version": 2
   },
   "file_extension": ".py",
   "mimetype": "text/x-python",
   "name": "python",
   "nbconvert_exporter": "python",
   "pygments_lexer": "ipython2",
   "version": "2.7.6"
  }
 },
 "nbformat": 4,
 "nbformat_minor": 5
}
