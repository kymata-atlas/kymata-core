{
 "cells": [
  {
   "cell_type": "code",
   "execution_count": 1,
   "id": "initial_id",
   "metadata": {
    "collapsed": true,
    "ExecuteTime": {
     "end_time": "2023-11-16T17:43:47.830263Z",
     "start_time": "2023-11-16T17:43:46.709113Z"
    }
   },
   "outputs": [],
   "source": [
    "from os import path\n",
    "from pathlib import Path\n",
    "from tempfile import NamedTemporaryFile\n",
    "\n",
    "from kymata.datasets.sample import KymataMirror2023Q3Dataset, GMLoudnessDataset, GMDeltaInstantaneousLoudnessTonotopicChannel1Dataset\n",
    "from kymata.entities.expression import ExpressionSet"
   ]
  },
  {
   "cell_type": "code",
   "execution_count": 2,
   "outputs": [
    {
     "name": "stdout",
     "output_type": "stream",
     "text": [
      "Downloading dataset: kymata_mirror_Q3_2023\n",
      "Local file already exists: /Users/cai/Dox/Work/Kymata lab/Data/kymata_data/kymata_mirror_Q3_2023/kymata_mirror_Q3_2023_expression_endtable.nkg\n"
     ]
    }
   ],
   "source": [
    "# set location of tutorial data\n",
    "sample_data_dir = Path(Path(path.abspath(\"\")).parent, \"data\", \"sample-data\")\n",
    "\n",
    "# Start with sample dataset\n",
    "expression_data_kymata_mirror: ExpressionSet = KymataMirror2023Q3Dataset().to_expressionset()\n"
   ],
   "metadata": {
    "collapsed": false,
    "ExecuteTime": {
     "end_time": "2023-11-16T17:43:51.004805Z",
     "start_time": "2023-11-16T17:43:47.836303Z"
    }
   },
   "id": "4df17a3a727b7c02"
  },
  {
   "cell_type": "code",
   "execution_count": 3,
   "outputs": [
    {
     "name": "stdout",
     "output_type": "stream",
     "text": [
      "Downloading dataset: GMLoudness\n",
      "Local file already exists: /Users/cai/Dox/Work/Kymata lab/Data/kymata_data/GMLoudness/GMLoudness_lh_10242verts_-200-800ms_cuttoff1000_5perms_ttestpval.mat\n",
      "Local file already exists: /Users/cai/Dox/Work/Kymata lab/Data/kymata_data/GMLoudness/GMLoudness_rh_10242verts_-200-800ms_cuttoff1000_5perms_ttestpval.mat\n",
      "Downloading dataset: GMloudness_tonotop_82dB_d_ins_loudness_tonop_chan1\n",
      "Downloading https://kymata.org/assets_kymata_toolbox_tutorial_data/gridsearch-result-data//GMloudness_tonotop_82dB_d_ins_loudness_tonop_chan1__lh_10242verts_-200-800ms_cuttoff1000_5perms_ttestpval.mat to /Users/cai/Dox/Work/Kymata lab/Data/kymata_data/GMloudness_tonotop_82dB_d_ins_loudness_tonop_chan1/GMloudness_tonotop_82dB_d_ins_loudness_tonop_chan1__lh_10242verts_-200-800ms_cuttoff1000_5perms_ttestpval.mat\n",
      "Downloading https://kymata.org/assets_kymata_toolbox_tutorial_data/gridsearch-result-data//GMloudness_tonotop_82dB_d_ins_loudness_tonop_chan1__rh_10242verts_-200-800ms_cuttoff1000_5perms_ttestpval.mat to /Users/cai/Dox/Work/Kymata lab/Data/kymata_data/GMloudness_tonotop_82dB_d_ins_loudness_tonop_chan1/GMloudness_tonotop_82dB_d_ins_loudness_tonop_chan1__rh_10242verts_-200-800ms_cuttoff1000_5perms_ttestpval.mat\n"
     ]
    }
   ],
   "source": [
    "# Get a second sample dataset\n",
    "\n",
    "# Create new expression set object for the new results (or you can just add to an existing expressionSet directly using '+=' ).\n",
    "expression_data_new_results = GMLoudnessDataset().to_expressionset()\n",
    "expression_data_new_results += GMDeltaInstantaneousLoudnessTonotopicChannel1Dataset().to_expressionset()"
   ],
   "metadata": {
    "collapsed": false,
    "ExecuteTime": {
     "end_time": "2023-11-16T17:44:00.396583Z",
     "start_time": "2023-11-16T17:43:51.006473Z"
    }
   },
   "id": "681594ea282bf0f"
  },
  {
   "cell_type": "code",
   "execution_count": 4,
   "outputs": [
    {
     "name": "stderr",
     "output_type": "stream",
     "text": [
      "/Users/cai/Dox/Work/Kymata lab/Code/kymata-toolbox/kymata/entities/expression.py:215: UserWarning: Experimental function. The on-disk data format for ExpressionSet is not yet fixed. Files saved using .save should not (yet) be treated as stable or future-proof.\n",
      "  warn(\"Experimental function. \"\n"
     ]
    }
   ],
   "source": [
    "# You can add two ExpressionSets together\n",
    "expression_data_extended = expression_data_kymata_mirror + expression_data_new_results\n",
    "\n",
    "# Save new expressionSet for use again in the future.\n",
    "with NamedTemporaryFile() as tf:\n",
    "    expression_data_extended.save(tf)"
   ],
   "metadata": {
    "collapsed": false,
    "ExecuteTime": {
     "end_time": "2023-11-16T17:44:11.663681Z",
     "start_time": "2023-11-16T17:44:00.398815Z"
    }
   },
   "id": "77c6c3617357edbb"
  }
 ],
 "metadata": {
  "kernelspec": {
   "display_name": "Python 3",
   "language": "python",
   "name": "python3"
  },
  "language_info": {
   "codemirror_mode": {
    "name": "ipython",
    "version": 2
   },
   "file_extension": ".py",
   "mimetype": "text/x-python",
   "name": "python",
   "nbconvert_exporter": "python",
   "pygments_lexer": "ipython2",
   "version": "2.7.6"
  }
 },
 "nbformat": 4,
 "nbformat_minor": 5
}
