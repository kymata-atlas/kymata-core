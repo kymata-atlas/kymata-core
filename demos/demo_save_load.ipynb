{
 "cells": [
  {
   "cell_type": "code",
   "execution_count": 1,
   "id": "initial_id",
   "metadata": {
    "collapsed": true,
    "ExecuteTime": {
     "end_time": "2023-11-19T17:38:45.841572Z",
     "start_time": "2023-11-19T17:38:45.202251Z"
    }
   },
   "outputs": [],
   "source": [
    "from os import path\n",
    "from pathlib import Path\n",
    "from tempfile import NamedTemporaryFile\n",
    "\n",
    "from kymata.datasets.sample import KymataMirror2023Q3Dataset, TVLInsLoudnessOnlyDataset, TVLDeltaInsTC1LoudnessOnlyDataset\n",
    "from kymata.entities.expression import ExpressionSet"
   ]
  },
  {
   "cell_type": "code",
   "execution_count": 6,
   "outputs": [
    {
     "name": "stdout",
     "output_type": "stream",
     "text": [
      "Downloading dataset: kymata_mirror_Q3_2023\n",
      "Local file already exists: /Users/administration/Github/kymata-toolbox/data/sample-data/kymata_mirror_Q3_2023/kymata_mirror_Q3_2023_expression_endtable.nkg\n",
      "kymata_mirror_Q3_2023_expression_endtable.nkg\n",
      "Downloading dataset: TVL_2020_ins_loudness_only\n",
      "Local file already exists: /Users/administration/Github/kymata-toolbox/data/sample-data/TVL_2020_ins_loudness_only/TVL_2020_ins_loudness_only.nkg\n",
      "Downloading dataset: TVL_2020_delta_ins_tontop_chan1_loudness_only\n",
      "Local file already exists: /Users/administration/Github/kymata-toolbox/data/sample-data/TVL_2020_delta_ins_tontop_chan1_loudness_only/TVL_2020_delta_ins_tontop_chan1_loudness_only.nkg\n"
     ]
    }
   ],
   "source": [
    "## Download sample data. This cell can be ignored if you wish to load your own\n",
    "## data from a gridsearch.\n",
    "\n",
    "# set location of tutorial data\n",
    "sample_data_dir = Path(Path(path.abspath(\"\")).parent, \"data\", \"sample-data\")\n",
    "\n",
    "# First we'll download a sample .nkg file which loads a range of functions,\n",
    "# from the Kymata Research Group. nkg files contain both lefthand and\n",
    "# righthand data for a set of functions\n",
    "\n",
    "sample_dataset = KymataMirror2023Q3Dataset(data_root=sample_data_dir, download=True)\n",
    "nkg_path = Path(sample_dataset.path, sample_dataset.filenames[0])\n",
    "print(nkg_path.name)\n",
    "\n",
    "# Second we will download two .nkg files which only contain one\n",
    "# function each - 'ins_loudness' and 'd_ins_tc1_loudness':\n",
    "ins_loudness_only_dataset = TVLInsLoudnessOnlyDataset(data_root=sample_data_dir, download=True)\n",
    "ins_loudness_path = Path(ins_loudness_only_dataset.path, ins_loudness_only_dataset.filenames[0])\n",
    "\n",
    "d_ins_tc1_loudness_only_dataset = TVLDeltaInsTC1LoudnessOnlyDataset(data_root=sample_data_dir, download=True)\n",
    "d_ins_tc1_loudness_path = Path(d_ins_tc1_loudness_only_dataset.path, d_ins_tc1_loudness_only_dataset.filenames[0])"
   ],
   "metadata": {
    "collapsed": false,
    "ExecuteTime": {
     "end_time": "2023-11-19T17:46:34.078784Z",
     "start_time": "2023-11-19T17:46:34.069744Z"
    }
   },
   "id": "1f36e2e91b52522f"
  },
  {
   "cell_type": "code",
   "execution_count": 4,
   "outputs": [],
   "source": [
    "# Let's load the KymataMirror2023Q3 .nkg file. This contains around 30 functions.\n",
    "expression_data_kymata_mirror = ExpressionSet.load(from_path_or_file=nkg_path)"
   ],
   "metadata": {
    "collapsed": false,
    "ExecuteTime": {
     "end_time": "2023-11-19T17:46:29.809860Z",
     "start_time": "2023-11-19T17:46:28.647459Z"
    }
   },
   "id": "4df17a3a727b7c02"
  },
  {
   "cell_type": "code",
   "execution_count": 7,
   "outputs": [],
   "source": [
    "# Let's seperately load the 'ins_loudness' .nkg file, and then load and add the\n",
    "# d_ins_tc1_loudness to it using '+='. 'expression_data_new_results' now contains two functions.\n",
    "expression_data_new_results = ExpressionSet.load(from_path_or_file=ins_loudness_path)\n",
    "expression_data_new_results += ExpressionSet.load(from_path_or_file=d_ins_tc1_loudness_path)"
   ],
   "metadata": {
    "collapsed": false,
    "ExecuteTime": {
     "end_time": "2023-11-19T17:46:40.422043Z",
     "start_time": "2023-11-19T17:46:39.774911Z"
    }
   },
   "id": "681594ea282bf0f"
  },
  {
   "cell_type": "code",
   "execution_count": 8,
   "outputs": [
    {
     "name": "stderr",
     "output_type": "stream",
     "text": [
      "/Users/administration/Github/kymata-toolbox/kymata/entities/expression.py:215: UserWarning: Experimental function. The on-disk data format for ExpressionSet is not yet fixed. Files saved using .save should not (yet) be treated as stable or future-proof.\n",
      "  warn(\"Experimental function. \"\n"
     ]
    }
   ],
   "source": [
    "# We can add these two ExpressionSets together with '+' or \"=+\"\n",
    "expression_data_extended = expression_data_kymata_mirror + expression_data_new_results\n",
    "\n",
    "# Save new expressionSet for use again in the future.\n",
    "with NamedTemporaryFile() as tf:\n",
    "    expression_data_extended.save(tf)"
   ],
   "metadata": {
    "collapsed": false,
    "ExecuteTime": {
     "end_time": "2023-11-19T17:46:52.217736Z",
     "start_time": "2023-11-19T17:46:45.070575Z"
    }
   },
   "id": "77c6c3617357edbb"
  }
 ],
 "metadata": {
  "kernelspec": {
   "display_name": "Python 3",
   "language": "python",
   "name": "python3"
  },
  "language_info": {
   "codemirror_mode": {
    "name": "ipython",
    "version": 2
   },
   "file_extension": ".py",
   "mimetype": "text/x-python",
   "name": "python",
   "nbconvert_exporter": "python",
   "pygments_lexer": "ipython2",
   "version": "2.7.6"
  }
 },
 "nbformat": 4,
 "nbformat_minor": 5
}
