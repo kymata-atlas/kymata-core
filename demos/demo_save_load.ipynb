{
 "cells": [
  {
   "cell_type": "code",
   "execution_count": 4,
   "id": "initial_id",
   "metadata": {
    "collapsed": true,
    "ExecuteTime": {
     "end_time": "2023-11-17T14:54:55.548333Z",
     "start_time": "2023-11-17T14:54:53.847330Z"
    }
   },
   "outputs": [],
   "source": [
    "from os import path\n",
    "from pathlib import Path\n",
    "from tempfile import NamedTemporaryFile\n",
    "\n",
    "from kymata.datasets.sample import KymataMirror2023Q3Dataset, GMLoudnessDataset, GMDeltaInstantaneousLoudnessTonotopicChannel1Dataset\n",
    "from kymata.entities.expression import ExpressionSet"
   ]
  },
  {
   "cell_type": "code",
   "execution_count": 8,
   "outputs": [
    {
     "name": "stdout",
     "output_type": "stream",
     "text": [
      "Downloading dataset: kymata_mirror_Q3_2023\n",
      "Local file already exists: /Users/administration/Github/kymata-toolbox/data/sample-data/kymata_mirror_Q3_2023/kymata_mirror_Q3_2023_expression_endtable.nkg\n",
      "kymata_mirror_Q3_2023_expression_endtable.nkg\n"
     ]
    }
   ],
   "source": [
    "# set location of tutorial data\n",
    "sample_data_dir = Path(Path(path.abspath(\"\")).parent, \"data\", \"sample-data\")\n",
    "\n",
    "# First we'll download some sample data provided by the Kymata Atlas\n",
    "sample_dataset = KymataMirror2023Q3Dataset(data_root=sample_data_dir, download=True)\n",
    "# This downloads a .nkg file, containing both lefthand and righthand data for a set of functions\n",
    "nkg_path = Path(sample_dataset.path, sample_dataset.filenames[0])\n",
    "print(nkg_path.name)\n",
    "\n",
    "# We load this file into an ExpressionSet object\n",
    "expression_data_kymata_mirror = ExpressionSet.load(from_path_or_file=nkg_path)"
   ],
   "metadata": {
    "collapsed": false,
    "ExecuteTime": {
     "end_time": "2023-11-17T16:16:48.039300Z",
     "start_time": "2023-11-17T16:16:48.036796Z"
    }
   },
   "id": "4df17a3a727b7c02"
  },
  {
   "cell_type": "code",
   "execution_count": 10,
   "outputs": [],
   "source": [
    "# Get a second sample dataset\n",
    "\n",
    "# Create new expression set object for the new results (or you can just add to an existing expressionSet directly using '+=' ).\n",
    "expression_data_new_results = GMLoudnessDataset().to_expressionset()\n",
    "expression_data_new_results += GMDeltaInstantaneousLoudnessTonotopicChannel1Dataset().to_expressionset()"
   ],
   "metadata": {
    "collapsed": false,
    "ExecuteTime": {
     "end_time": "2023-11-17T16:19:35.681567Z",
     "start_time": "2023-11-17T16:19:34.481894Z"
    }
   },
   "id": "681594ea282bf0f"
  },
  {
   "cell_type": "code",
   "execution_count": 7,
   "outputs": [
    {
     "name": "stdout",
     "output_type": "stream",
     "text": [
      "Data root set at /Users/administration/Github/kymata-toolbox/kymata_data.\n",
      "Consider setting this as environmental variable KYMATA_DATA_ROOT to ensure it's reused next time.\n",
      "Hint: $> KYMATA_DATA_ROOT=\"/Users/administration/Github/kymata-toolbox/kymata_data\"\n",
      "Downloading dataset: GMLoudness\n",
      "Local file already exists: /Users/administration/Github/kymata-toolbox/kymata_data/GMLoudness/GMLoudness_lh_10242verts_-200-800ms_cuttoff1000_5perms_ttestpval.mat\n",
      "Local file already exists: /Users/administration/Github/kymata-toolbox/kymata_data/GMLoudness/GMLoudness_rh_10242verts_-200-800ms_cuttoff1000_5perms_ttestpval.mat\n",
      "Data root set at /Users/administration/Github/kymata-toolbox/kymata_data.\n",
      "Consider setting this as environmental variable KYMATA_DATA_ROOT to ensure it's reused next time.\n",
      "Hint: $> KYMATA_DATA_ROOT=\"/Users/administration/Github/kymata-toolbox/kymata_data\"\n",
      "Downloading dataset: GMloudness_tonotop_82dB_d_ins_loudness_tonop_chan1\n",
      "Local file already exists: /Users/administration/Github/kymata-toolbox/kymata_data/GMloudness_tonotop_82dB_d_ins_loudness_tonop_chan1/GMloudness_tonotop_82dB_d_ins_loudness_tonop_chan1__lh_10242verts_-200-800ms_cuttoff1000_5perms_ttestpval.mat\n",
      "Local file already exists: /Users/administration/Github/kymata-toolbox/kymata_data/GMloudness_tonotop_82dB_d_ins_loudness_tonop_chan1/GMloudness_tonotop_82dB_d_ins_loudness_tonop_chan1__rh_10242verts_-200-800ms_cuttoff1000_5perms_ttestpval.mat\n"
     ]
    }
   ],
   "source": [
    "# You can add two ExpressionSets together\n",
    "expression_data_extended = expression_data_kymata_mirror + expression_data_new_results\n",
    "\n",
    "# Save new expressionSet for use again in the future.\n",
    "with NamedTemporaryFile() as tf:\n",
    "    expression_data_extended.save(tf)"
   ],
   "metadata": {
    "collapsed": false,
    "ExecuteTime": {
     "end_time": "2023-11-17T14:55:17.432084Z",
     "start_time": "2023-11-17T14:55:14.771992Z"
    }
   },
   "id": "77c6c3617357edbb"
  }
 ],
 "metadata": {
  "kernelspec": {
   "display_name": "Python 3",
   "language": "python",
   "name": "python3"
  },
  "language_info": {
   "codemirror_mode": {
    "name": "ipython",
    "version": 2
   },
   "file_extension": ".py",
   "mimetype": "text/x-python",
   "name": "python",
   "nbconvert_exporter": "python",
   "pygments_lexer": "ipython2",
   "version": "2.7.6"
  }
 },
 "nbformat": 4,
 "nbformat_minor": 5
}
