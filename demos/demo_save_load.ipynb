{
 "cells": [
  {
   "cell_type": "code",
   "source": [
    "from os import path\n",
    "from pathlib import Path\n",
    "from tempfile import NamedTemporaryFile\n",
    "\n",
    "from kymata.datasets.sample import KymataMirror2023Q3Dataset, TVLInsLoudnessOnlyDataset, TVLDeltaInsTC1LoudnessOnlyDataset\n",
    "from kymata.io.nkg import save_expression_set, load_expression_set"
   ],
   "metadata": {
    "collapsed": false,
    "ExecuteTime": {
     "end_time": "2024-08-14T13:34:48.526007Z",
     "start_time": "2024-08-14T13:34:47.827052Z"
    }
   },
   "id": "initial_id",
   "execution_count": 1,
   "outputs": []
  },
  {
   "cell_type": "code",
   "source": [
    "## Download sample data. This cell can be ignored if you wish to load your own\n",
    "## data from a gridsearch.\n",
    "\n",
    "# set location of tutorial data\n",
    "sample_data_dir = Path(Path(path.abspath(\"\")).parent, \"kymata-core-data\")\n",
    "sample_data_dir.mkdir(exist_ok=True)\n",
    "\n",
    "# First we'll download a sample .nkg file which loads a range of transforms,\n",
    "# from the Kymata Research Group. nkg files contain both lefthand and\n",
    "# right-hand data for a set of transforms\n",
    "\n",
    "sample_dataset = KymataMirror2023Q3Dataset(data_root=sample_data_dir, download=True)\n",
    "nkg_path = Path(sample_dataset.path, sample_dataset.filenames[0])\n",
    "print(nkg_path.name)\n",
    "\n",
    "# Second we will download two .nkg files which only contain one\n",
    "# transform each - 'ins_loudness' and 'd_ins_tc1_loudness':\n",
    "ins_loudness_only_dataset = TVLInsLoudnessOnlyDataset(data_root=sample_data_dir, download=True)\n",
    "ins_loudness_path = Path(ins_loudness_only_dataset.path, ins_loudness_only_dataset.filenames[0])\n",
    "\n",
    "d_ins_tc1_loudness_only_dataset = TVLDeltaInsTC1LoudnessOnlyDataset(data_root=sample_data_dir, download=True)\n",
    "d_ins_tc1_loudness_path = Path(d_ins_tc1_loudness_only_dataset.path, d_ins_tc1_loudness_only_dataset.filenames[0])"
   ],
   "metadata": {
    "collapsed": false,
    "ExecuteTime": {
     "end_time": "2024-08-14T13:34:48.534570Z",
     "start_time": "2024-08-14T13:34:48.528928Z"
    }
   },
   "id": "1f36e2e91b52522f",
   "execution_count": 2,
   "outputs": []
  },
  {
   "cell_type": "code",
   "source": [
    "# Let's load the KymataMirror2023Q3 .nkg file. This contains around 30 transforms.\n",
    "expression_data_kymata_mirror = load_expression_set(from_path_or_file=nkg_path)"
   ],
   "metadata": {
    "collapsed": false,
    "ExecuteTime": {
     "end_time": "2024-08-14T13:34:51.439309Z",
     "start_time": "2024-08-14T13:34:48.536170Z"
    }
   },
   "id": "4df17a3a727b7c02",
   "execution_count": 3,
   "outputs": []
  },
  {
   "cell_type": "code",
   "source": [
    "# Let's separately load the 'ins_loudness' .nkg file, and then load and add the\n",
    "# d_ins_tc1_loudness to it using '+='. 'expression_data_new_results' now contains two transforms.\n",
    "expression_data_new_results = load_expression_set(from_path_or_file=ins_loudness_path)\n",
    "expression_data_new_results += load_expression_set(from_path_or_file=d_ins_tc1_loudness_path)"
   ],
   "metadata": {
    "collapsed": false,
    "ExecuteTime": {
     "end_time": "2024-08-14T13:34:51.495838Z",
     "start_time": "2024-08-14T13:34:51.440036Z"
    }
   },
   "id": "681594ea282bf0f",
   "execution_count": 4,
   "outputs": []
  },
  {
   "cell_type": "code",
   "source": [
    "# We can add these two ExpressionSets together with '+' or \"=+\"\n",
    "expression_data_extended = expression_data_kymata_mirror + expression_data_new_results\n",
    "\n",
    "# Save new expressionSet for use again in the future.\n",
    "with NamedTemporaryFile() as tf:\n",
    "    save_expression_set(expression_data_extended, tf)"
   ],
   "metadata": {
    "collapsed": false,
    "ExecuteTime": {
     "end_time": "2024-08-14T13:34:58.875816Z",
     "start_time": "2024-08-14T13:34:51.498151Z"
    }
   },
   "id": "77c6c3617357edbb",
   "execution_count": 5,
   "outputs": []
  },
  {
   "metadata": {
    "ExecuteTime": {
     "end_time": "2024-08-14T13:34:58.978359Z",
     "start_time": "2024-08-14T13:34:58.876550Z"
    }
   },
   "cell_type": "code",
   "source": [
    "# Additionally, we can load multiple files at once\n",
    "expression_data_new_results = load_expression_set(from_path_or_file=[ins_loudness_path, d_ins_tc1_loudness_path])"
   ],
   "id": "19ca1b09090d5b34",
   "execution_count": 6,
   "outputs": []
  }
 ],
 "metadata": {
  "kernelspec": {
   "display_name": "Python 3",
   "language": "python",
   "name": "python3"
  },
  "language_info": {
   "codemirror_mode": {
    "name": "ipython",
    "version": 2
   },
   "file_extension": ".py",
   "mimetype": "text/x-python",
   "name": "python",
   "nbconvert_exporter": "python",
   "pygments_lexer": "ipython2",
   "version": "2.7.6"
  }
 },
 "nbformat": 4,
 "nbformat_minor": 5
}
