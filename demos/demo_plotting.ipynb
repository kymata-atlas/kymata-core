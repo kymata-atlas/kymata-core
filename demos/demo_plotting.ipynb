{
 "cells": [
  {
   "cell_type": "code",
   "id": "initial_id",
   "metadata": {
    "collapsed": true,
    "ExecuteTime": {
     "end_time": "2024-05-24T15:25:46.084886Z",
     "start_time": "2024-05-24T15:25:44.284710Z"
    }
   },
   "source": [
    "from kymata.datasets.sample import KymataMirror2023Q3Dataset, TVLDeltaInsTC1LoudnessOnlySensorsDataset\n",
    "from kymata.entities.expression import HexelExpressionSet, SensorExpressionSet\n",
    "from kymata.plot.color import gradient_color_dict, constant_color_dict\n",
    "from kymata.plot.plot import expression_plot, legend_display_dict"
   ],
   "execution_count": 1,
   "outputs": []
  },
  {
   "cell_type": "markdown",
   "source": [
    "### Plot Hexel Expression Plots"
   ],
   "metadata": {
    "collapsed": false
   },
   "id": "e9ac84826ff9892e"
  },
  {
   "cell_type": "code",
   "source": [
    "# We'll create new expression set object and add to it\n",
    "\n",
    "# For more explanation of saving and loading ExpressionSets, see the demo_save_load.ipynb\n",
    "expression_data_kymata_mirror: HexelExpressionSet = KymataMirror2023Q3Dataset().to_expressionset()\n",
    "\n",
    "# print the names of all available functions in the expressionSet object\n",
    "print(\"\\n\".join(expression_data_kymata_mirror.functions))"
   ],
   "metadata": {
    "collapsed": false,
    "ExecuteTime": {
     "end_time": "2024-05-24T15:25:50.331213Z",
     "start_time": "2024-05-24T15:25:46.086150Z"
    }
   },
   "id": "4023a711ee8a1675",
   "execution_count": 2,
   "outputs": []
  },
  {
   "cell_type": "code",
   "source": [
    "# plot everything, with everything model selected against each other\n",
    "expression_plot(expression_data_kymata_mirror);"
   ],
   "metadata": {
    "collapsed": false,
    "ExecuteTime": {
     "end_time": "2024-05-24T15:25:55.759975Z",
     "start_time": "2024-05-24T15:25:50.332033Z"
    }
   },
   "id": "d466d1d098417e8",
   "execution_count": 3,
   "outputs": []
  },
  {
   "cell_type": "code",
   "source": [
    "# only compare a subset of functions (e.g. colour functions), and print them all.\n",
    "# Note that 'CIELAB a*' and 'CIELAB L' are not significant, and so will not turn up.\n",
    "expression_plot(expression_data_kymata_mirror[\n",
    "                    'CIECAM02 A',\n",
    "                    'CIECAM02 a',\n",
    "                    'CIELAB a*',\n",
    "                    'CIELAB L'\n",
    "                ]);"
   ],
   "metadata": {
    "collapsed": false,
    "ExecuteTime": {
     "end_time": "2024-05-24T15:25:57.534223Z",
     "start_time": "2024-05-24T15:25:55.761558Z"
    }
   },
   "id": "d77e82f5aaaa4e74",
   "execution_count": 4,
   "outputs": []
  },
  {
   "cell_type": "code",
   "source": [
    "# Only compare a subset of functions, and print just one of them\n",
    "expression_plot(expression_data_kymata_mirror[\n",
    "                    'CIECAM02 A',\n",
    "                    'CIECAM02 a',\n",
    "                    'CIELAB a*',\n",
    "                    'CIELAB L'\n",
    "                ], show_only=[\n",
    "                    \"CIECAM02 A\"\n",
    "                ]);"
   ],
   "metadata": {
    "collapsed": false,
    "ExecuteTime": {
     "end_time": "2024-05-24T15:25:58.746571Z",
     "start_time": "2024-05-24T15:25:57.535280Z"
    }
   },
   "id": "2c27c48ebb92d21a",
   "execution_count": 5,
   "outputs": []
  },
  {
   "metadata": {
    "ExecuteTime": {
     "end_time": "2024-05-24T15:26:08.977739Z",
     "start_time": "2024-05-24T15:25:58.747431Z"
    }
   },
   "cell_type": "code",
   "source": [
    "# If plotting hexel data, we can choose to display significant hexels' locations on a brain\n",
    "expression_plot(expression_data_kymata_mirror,\n",
    "                show_only=[\n",
    "                    'TVL loudness chan 1 (instantaneous)',\n",
    "                    'TVL loudness chan 2 (instantaneous)',\n",
    "                    'TVL loudness chan 3 (instantaneous)',\n",
    "                    'TVL loudness chan 4 (instantaneous)',\n",
    "                    'TVL loudness chan 5 (instantaneous)',\n",
    "                    'TVL loudness chan 6 (instantaneous)',\n",
    "                    'TVL loudness chan 7 (instantaneous)',\n",
    "                    'TVL loudness chan 8 (instantaneous)',\n",
    "                    'TVL loudness chan 9 (instantaneous)',\n",
    "                    'TVL loudness (instantaneous)',\n",
    "                    'TVL loudness (short-term)',\n",
    "\n",
    "                ],\n",
    "                color=gradient_color_dict([\n",
    "                    'TVL loudness chan 1 (instantaneous)',\n",
    "                    'TVL loudness chan 2 (instantaneous)',\n",
    "                    'TVL loudness chan 3 (instantaneous)',\n",
    "                    'TVL loudness chan 4 (instantaneous)',\n",
    "                    'TVL loudness chan 5 (instantaneous)',\n",
    "                    'TVL loudness chan 6 (instantaneous)',\n",
    "                    'TVL loudness chan 7 (instantaneous)',\n",
    "                    'TVL loudness chan 8 (instantaneous)',\n",
    "                    'TVL loudness chan 9 (instantaneous)',\n",
    "                    ], start_color=\"blue\", stop_color=\"purple\")\n",
    "                | constant_color_dict([\n",
    "                    'TVL loudness (instantaneous)',\n",
    "                ], color=\"red\")\n",
    "                | constant_color_dict([\n",
    "                    'TVL loudness (short-term)',\n",
    "                ], color=\"pink\"),\n",
    "                minimap=True,\n",
    "                )"
   ],
   "id": "aa849c378dea9a97",
   "execution_count": 6,
   "outputs": []
  },
  {
   "cell_type": "code",
   "source": [
    "# Override colours (using hexcodes) so that all touch are cyan, all hearing orange, and all visual purple\n",
    "expression_plot(expression_data_kymata_mirror[\n",
    "                    'vibration detection (RH-Th/P/M)',\n",
    "                    'vibration detection (LH-Th/P/M)',\n",
    "                    'CIECAM02 A',\n",
    "                    'CIECAM02 a',\n",
    "                    'Heeger horizontal velocity',\n",
    "                    'Heeger horizontal ME GP1',\n",
    "                    'Heeger horizontal ME GP2',\n",
    "                    'Heeger horizontal ME GP3',\n",
    "                    'Heeger horizontal ME GP4',\n",
    "                    'TVL loudness (short-term)', \n",
    "                    'TVL loudness (instantaneous)', \n",
    "                    'TVL loudness chan 1 (instantaneous)', \n",
    "                    'TVL loudness chan 2 (instantaneous)', \n",
    "                    'TVL loudness chan 3 (instantaneous)', \n",
    "                    'TVL loudness chan 4 (instantaneous)', \n",
    "                    'TVL loudness chan 5 (instantaneous)', \n",
    "                    'TVL loudness chan 6 (instantaneous)', \n",
    "                    'TVL loudness chan 7 (instantaneous)',\n",
    "                    'TVL loudness chan 8 (instantaneous)',\n",
    "                    'TVL loudness chan 9 (instantaneous)',\n",
    "                ],\n",
    "                # Supply colours in a dictionary mapping function names to colour hexes.\n",
    "                # You can use the two helper functions constant_color_dict and gradient_color_dict to visually group functions belonging\n",
    "                # to the same family.  For example, here we set both vibration functions to be cyan\n",
    "                color = constant_color_dict([\n",
    "                            'vibration detection (RH-Th/P/M)',\n",
    "                            'vibration detection (LH-Th/P/M)',\n",
    "                        ], color=\"cyan\")\n",
    "                        | constant_color_dict([\n",
    "                            'CIECAM02 A',\n",
    "                            'CIECAM02 a',\n",
    "                        ], color=\"violet\")\n",
    "                        | {\n",
    "                            'Heeger horizontal velocity': 'pink',\n",
    "                        }\n",
    "                        # and here we plot the 4 consecutive layers of a Gaussian pyramid using a colour gradient\n",
    "                        | gradient_color_dict([\n",
    "                            'Heeger horizontal ME GP1',\n",
    "                            'Heeger horizontal ME GP2',\n",
    "                            'Heeger horizontal ME GP3',\n",
    "                            'Heeger horizontal ME GP4',\n",
    "                        ], start_color=\"blue\", stop_color=\"purple\")\n",
    "                        | {\n",
    "                            'TVL loudness (short-term)': '#f1b37e',\n",
    "                            'TVL loudness (instantaneous)': '#f1b37e',\n",
    "                        }\n",
    "                        | gradient_color_dict([\n",
    "                            'TVL loudness chan 1 (instantaneous)',\n",
    "                            'TVL loudness chan 2 (instantaneous)',\n",
    "                            'TVL loudness chan 3 (instantaneous)',\n",
    "                            'TVL loudness chan 4 (instantaneous)',\n",
    "                            'TVL loudness chan 5 (instantaneous)',\n",
    "                            'TVL loudness chan 6 (instantaneous)',\n",
    "                            'TVL loudness chan 7 (instantaneous)',\n",
    "                            'TVL loudness chan 8 (instantaneous)',\n",
    "                            'TVL loudness chan 9 (instantaneous)',\n",
    "                        ], start_color=\"yellow\", stop_color=\"orange\"));"
   ],
   "metadata": {
    "collapsed": false,
    "ExecuteTime": {
     "end_time": "2024-05-24T15:26:12.123234Z",
     "start_time": "2024-05-24T15:26:08.978802Z"
    }
   },
   "id": "736f99a2ddc28751",
   "execution_count": 7,
   "outputs": []
  },
  {
   "metadata": {
    "ExecuteTime": {
     "end_time": "2024-05-24T15:26:14.307235Z",
     "start_time": "2024-05-24T15:26:12.124232Z"
    }
   },
   "cell_type": "code",
   "source": [
    "# We can group multiple functions into single entries in the legend\n",
    "heeger_gp_layers = [\n",
    "    'Heeger horizontal ME GP1',\n",
    "    'Heeger horizontal ME GP2',\n",
    "    'Heeger horizontal ME GP3',\n",
    "    'Heeger horizontal ME GP4',\n",
    "]\n",
    "tvl_tonotopic_layers = [\n",
    "    'TVL loudness chan 1 (instantaneous)', \n",
    "    'TVL loudness chan 2 (instantaneous)', \n",
    "    'TVL loudness chan 3 (instantaneous)', \n",
    "    'TVL loudness chan 4 (instantaneous)', \n",
    "    'TVL loudness chan 5 (instantaneous)', \n",
    "    'TVL loudness chan 6 (instantaneous)', \n",
    "    'TVL loudness chan 7 (instantaneous)',\n",
    "    'TVL loudness chan 8 (instantaneous)',\n",
    "    'TVL loudness chan 9 (instantaneous)',\n",
    "]\n",
    "expression_plot(expression_data_kymata_mirror[\n",
    "                    'Heeger horizontal velocity',\n",
    "                    'Heeger horizontal ME GP1',\n",
    "                    'Heeger horizontal ME GP2',\n",
    "                    'Heeger horizontal ME GP3',\n",
    "                    'Heeger horizontal ME GP4',\n",
    "                    'TVL loudness (short-term)', \n",
    "                    'TVL loudness (instantaneous)', \n",
    "                    'TVL loudness chan 1 (instantaneous)', \n",
    "                    'TVL loudness chan 2 (instantaneous)', \n",
    "                    'TVL loudness chan 3 (instantaneous)', \n",
    "                    'TVL loudness chan 4 (instantaneous)', \n",
    "                    'TVL loudness chan 5 (instantaneous)', \n",
    "                    'TVL loudness chan 6 (instantaneous)', \n",
    "                    'TVL loudness chan 7 (instantaneous)',\n",
    "                    'TVL loudness chan 8 (instantaneous)',\n",
    "                    'TVL loudness chan 9 (instantaneous)',\n",
    "                ],\n",
    "                show_only=heeger_gp_layers + ['TVL loudness (short-term)', 'TVL loudness (instantaneous)'],\n",
    "                color = gradient_color_dict(heeger_gp_layers, start_color=\"blue\", stop_color=\"purple\")\n",
    "                        | {\n",
    "                            'TVL loudness (short-term)': '#f1b37e',\n",
    "                            'TVL loudness (instantaneous)': '#f1b37e',\n",
    "                        },\n",
    "                legend_display=legend_display_dict(heeger_gp_layers, \"Heeger GP layers\")\n",
    "                               | legend_display_dict(tvl_tonotopic_layers, \"TVL instantaneous loudness (tonotopic)\"));"
   ],
   "id": "78b4757fc8cdaa5d",
   "execution_count": 8,
   "outputs": []
  },
  {
   "cell_type": "markdown",
   "source": [
    "### Plot sensor expression plots"
   ],
   "metadata": {
    "collapsed": false
   },
   "id": "683811e08046f766"
  },
  {
   "cell_type": "code",
   "source": [
    "expression_data_TVL_ins_loudness_TC1_sensors: SensorExpressionSet = TVLDeltaInsTC1LoudnessOnlySensorsDataset().to_expressionset()\n",
    "expression_plot(expression_data_TVL_ins_loudness_TC1_sensors);"
   ],
   "metadata": {
    "collapsed": false,
    "ExecuteTime": {
     "end_time": "2024-05-24T15:26:14.553236Z",
     "start_time": "2024-05-24T15:26:14.308076Z"
    }
   },
   "id": "b3b78bf3b02b4d62",
   "execution_count": 9,
   "outputs": []
  },
  {
   "cell_type": "code",
   "source": [
    "# With sensor data we can also plot all sensors pointing in the same direction if we don't wish to\n",
    "# distinguish between left and right sensors\n",
    "expression_plot(expression_data_TVL_ins_loudness_TC1_sensors, paired_axes=False);"
   ],
   "metadata": {
    "collapsed": false,
    "ExecuteTime": {
     "end_time": "2024-05-24T15:26:14.755689Z",
     "start_time": "2024-05-24T15:26:14.556735Z"
    }
   },
   "id": "c13303dd354ee1e8",
   "execution_count": 10,
   "outputs": []
  }
 ],
 "metadata": {
  "kernelspec": {
   "display_name": "Python 3",
   "language": "python",
   "name": "python3"
  },
  "language_info": {
   "codemirror_mode": {
    "name": "ipython",
    "version": 2
   },
   "file_extension": ".py",
   "mimetype": "text/x-python",
   "name": "python",
   "nbconvert_exporter": "python",
   "pygments_lexer": "ipython2",
   "version": "2.7.6"
  }
 },
 "nbformat": 4,
 "nbformat_minor": 5
}
